{
 "cells": [
  {
   "cell_type": "code",
   "execution_count": null,
   "id": "9ea82126",
   "metadata": {},
   "outputs": [],
   "source": [
    "import tensorflow as tf\n",
    "import tensorflow_quantum as tfq\n",
    "import cirq\n",
    "import sympy\n",
    "import numpy as np\n",
    "from sklearn.model_selection import train_test_split\n",
    "from sklearn.preprocessing import MinMaxScaler\n",
    "from sklearn.metrics import confusion_matrix\n",
    "# visualization tools\n",
    "%matplotlib inline\n",
    "import matplotlib.pyplot as plt\n",
    "from cirq.contrib.svg import SVGCircuit"
   ]
  },
  {
   "cell_type": "code",
   "execution_count": null,
   "id": "23dfb811",
   "metadata": {
    "scrolled": true
   },
   "outputs": [],
   "source": [
    "def prepare_classic_dataset():\n",
    "    # load dataset\n",
    "    x, y = np.load('data_mfpt_3_classes.npz')['x'], np.load('data_mfpt_3_classes.npz')['y']\n",
    "    # separate into test and train\n",
    "    x_train, x_test, y_train, y_test = train_test_split(x, y, test_size=0.33, random_state=1)\n",
    "    # normalize\n",
    "    scaler = MinMaxScaler(feature_range=(0, np.pi))\n",
    "    x_train = scaler.fit_transform(x_train)\n",
    "    x_test = scaler.transform(x_test)\n",
    "    # one-hot encode\n",
    "    y_train = np.eye(3)[y_train]\n",
    "    y_test = np.eye(3)[y_test]\n",
    "    \n",
    "    return x_train, x_test, y_train, y_test\n",
    "    \n",
    "x_train, x_test, y_train, y_test = prepare_classic_dataset()\n",
    "\n",
    "\n",
    "def prepare_quantum_dataset(x):\n",
    "    \"\"\"angle encoding\"\"\"\n",
    "    # Qubits\n",
    "    q = cirq.GridQubit.rect(1, len(x))\n",
    "    # Operations\n",
    "    ops = [cirq.ry(2 * x[i]).on(q[i]) for i in range(len(x))]\n",
    "    # 1 circuit == 1 datapoint\n",
    "    circuit = cirq.Circuit(ops)\n",
    "    \n",
    "    \n",
    "    \n",
    "    return circuit\n",
    "\n",
    "x_train_q = [prepare_quantum_dataset(x) for x in x_train]\n",
    "x_test_q = [prepare_quantum_dataset(x) for x in x_test]\n",
    "\n",
    "SVGCircuit(x_train_q[1])"
   ]
  },
  {
   "cell_type": "code",
   "execution_count": null,
   "id": "fe2ea61a",
   "metadata": {},
   "outputs": [],
   "source": [
    "def train():\n",
    "    # load & prepare dataset\n",
    "    x_train, x_test, y_train, y_test = prepare_classic_dataset()\n",
    "    x_train_q = [prepare_quantum_dataset(x) for x in x_train]\n",
    "    x_test_q = [prepare_quantum_dataset(x) for x in x_test]\n",
    "\n",
    "\n",
    "    # generate model\n",
    "    \n",
    "    # Parameters\n",
    "    params = sympy.symbols('a b c')\n",
    "    # Qubits\n",
    "    q = cirq.GridQubit.rect(1, 5)\n",
    "    # Operations\n",
    "    ops = []\n",
    "    for i in range(5):\n",
    "        ops.append(cirq.ry(params[0]).on(q[i]))\n",
    "        ops.append(cirq.rx(params[1]).on(q[i]))\n",
    "        ops.append(cirq.rz(params[2]).on(q[i]))\n",
    "    # PQC circuit model\n",
    "    model_circuit = cirq.Circuit(ops)\n",
    "    \n",
    "    # The classical neural network layers.\n",
    "    nn = tf.keras.Sequential([tf.keras.layers.Dense(10, activation='elu'),\n",
    "                              tf.keras.layers.Dense(3, activation='softmax')])\n",
    "    # Circuit's input\n",
    "    circuit_input = tf.keras.Input(shape=(), dtype=tf.string, name='circuits_input')\n",
    "\n",
    "    # TFQ layer for circuits.\n",
    "    measurement_ops = [cirq.Z(q[i]) for i in range(5)]\n",
    "    circuit_layer = tfq.layers.PQC(model_circuit, measurement_ops)\n",
    "\n",
    "    # The Keras model\n",
    "    model = tf.keras.Model(inputs=circuit_input, outputs=nn(circuit_layer(circuit_input)))\n",
    "    \n",
    "    # Training\n",
    "    optimizer = tf.keras.optimizers.Adam(learning_rate=0.01)\n",
    "    model.compile(optimizer=optimizer, loss='categorical_crossentropy', metrics=['accuracy'])\n",
    "    history = model.fit(x=tfq.convert_to_tensor(x_train_q),\n",
    "                        y=y_train,\n",
    "                        epochs=50,\n",
    "                        verbose=1)\n",
    "    \n",
    "    # Evaluate\n",
    "    results_train = model.evaluate(tfq.convert_to_tensor(x_train_q), y_train)\n",
    "    results_test = model.evaluate(tfq.convert_to_tensor(x_test_q), y_test)\n",
    "    train_loss, train_accuracy = results_train[0], results_train[1]\n",
    "    test_loss, test_accuracy = results_test[0], results_test[1]\n",
    "    \n",
    "    return {'train_accuracy': results_train[1],\n",
    "           'test_accuracy': results_test[1],\n",
    "           'train_loss': results_train[0],\n",
    "           'test_loss': results_test[0]}"
   ]
  },
  {
   "cell_type": "code",
   "execution_count": null,
   "id": "fe28b606",
   "metadata": {},
   "outputs": [],
   "source": [
    "# Parameters\n",
    "params = sympy.symbols('a b c')\n",
    "# Qubits\n",
    "q = cirq.GridQubit.rect(1, 5)\n",
    "# Operations\n",
    "ops = []\n",
    "for i in range(5):\n",
    "    ops.append(cirq.ry(params[0]).on(q[i]))\n",
    "    ops.append(cirq.rx(params[1]).on(q[i]))\n",
    "    ops.append(cirq.rz(params[2]).on(q[i]))\n",
    "# PQC circuit model\n",
    "model_circuit = cirq.Circuit(ops)\n",
    "\n",
    "SVGCircuit(model_circuit)"
   ]
  },
  {
   "cell_type": "code",
   "execution_count": null,
   "id": "f8b27556",
   "metadata": {},
   "outputs": [],
   "source": [
    "# The classical neural network layers.\n",
    "nn = tf.keras.Sequential([tf.keras.layers.Dense(10, activation='elu'),\n",
    "                          tf.keras.layers.Dense(3, activation='softmax')])\n",
    "# Circuit's input\n",
    "circuit_input = tf.keras.Input(shape=(), dtype=tf.string, name='circuits_input')\n",
    "\n",
    "# TFQ layer for circuits.\n",
    "measurement_ops = [cirq.Z(q[i]) for i in range(5)]\n",
    "circuit_layer = tfq.layers.PQC(model_circuit, measurement_ops)\n",
    "\n",
    "# The Keras model\n",
    "model = tf.keras.Model(inputs=circuit_input, outputs=nn(circuit_layer(circuit_input)))"
   ]
  },
  {
   "cell_type": "code",
   "execution_count": null,
   "id": "59881c96",
   "metadata": {
    "scrolled": true
   },
   "outputs": [],
   "source": [
    "# Training\n",
    "optimizer = tf.keras.optimizers.Adam(learning_rate=0.01)\n",
    "model.compile(optimizer=optimizer, loss='categorical_crossentropy', metrics=['accuracy'])\n",
    "history = model.fit(x=tfq.convert_to_tensor(x_train_q),\n",
    "                    y=y_train,\n",
    "                    epochs=150,\n",
    "                    verbose=1)"
   ]
  },
  {
   "cell_type": "code",
   "execution_count": null,
   "id": "f10bb5ce",
   "metadata": {},
   "outputs": [],
   "source": [
    "model.evaluate(tfq.convert_to_tensor(x_test_q), y_test)\n",
    "y_test_ne = np.argmax(y_test, axis=1)\n",
    "y_test_pred_ne = np.argmax(model.predict(tfq.convert_to_tensor(x_test_q)), axis=1)\n",
    "cm = confusion_matrix(y_test_ne, y_test_pred_ne)\n",
    "print(cm)"
   ]
  },
  {
   "cell_type": "code",
   "execution_count": null,
   "id": "803167a8",
   "metadata": {},
   "outputs": [],
   "source": [
    "from utils import plot_confusion_matrix\n",
    "plot_confusion_matrix(cm, ['ND', 'OR', 'IR'], title='MFPT Classification Case Study: Test Data', normalize=True)"
   ]
  },
  {
   "cell_type": "code",
   "execution_count": null,
   "id": "99bd1b9d",
   "metadata": {},
   "outputs": [],
   "source": [
    "plt.plot(history.history['loss'])\n",
    "plt.title(\"MFPT Classification Case Study\")\n",
    "plt.xlabel(\"Epochs\")\n",
    "plt.ylabel(\"Loss\")\n",
    "plt.grid()\n",
    "plt.show()"
   ]
  },
  {
   "cell_type": "code",
   "execution_count": null,
   "id": "1219568e",
   "metadata": {},
   "outputs": [],
   "source": [
    "plt.plot(history.history['accuracy'])\n",
    "plt.title(\"MFPT Classification Case Study\")\n",
    "plt.xlabel(\"Epochs\")\n",
    "plt.ylabel(\"Accuracy [%]\")\n",
    "plt.grid()\n",
    "plt.show()"
   ]
  },
  {
   "cell_type": "code",
   "execution_count": null,
   "id": "f3cec14f",
   "metadata": {},
   "outputs": [],
   "source": []
  },
  {
   "cell_type": "code",
   "execution_count": null,
   "id": "5828c101",
   "metadata": {},
   "outputs": [],
   "source": []
  },
  {
   "cell_type": "code",
   "execution_count": null,
   "id": "b1b48c34",
   "metadata": {},
   "outputs": [],
   "source": []
  },
  {
   "cell_type": "code",
   "execution_count": null,
   "id": "5e5a7832",
   "metadata": {},
   "outputs": [],
   "source": []
  },
  {
   "cell_type": "code",
   "execution_count": null,
   "id": "dd018b28",
   "metadata": {},
   "outputs": [],
   "source": [
    "# Parameters\n",
    "params = sympy.symbols('x1 x2 x3 x4 x5')\n",
    "# Qubits\n",
    "q = cirq.GridQubit.rect(1, 5)\n",
    "# Operations\n",
    "ops = []\n",
    "for i in range(5):\n",
    "    ops.append(cirq.ry(params[i]).on(q[i]))\n",
    "# PQC circuit model\n",
    "model_circuit = cirq.Circuit(ops)\n",
    "\n",
    "SVGCircuit(model_circuit)"
   ]
  },
  {
   "cell_type": "code",
   "execution_count": null,
   "id": "ce88b0c3",
   "metadata": {},
   "outputs": [],
   "source": []
  }
 ],
 "metadata": {
  "kernelspec": {
   "display_name": "Python 3",
   "language": "python",
   "name": "python3"
  },
  "language_info": {
   "codemirror_mode": {
    "name": "ipython",
    "version": 3
   },
   "file_extension": ".py",
   "mimetype": "text/x-python",
   "name": "python",
   "nbconvert_exporter": "python",
   "pygments_lexer": "ipython3",
   "version": "3.8.5"
  }
 },
 "nbformat": 4,
 "nbformat_minor": 5
}
